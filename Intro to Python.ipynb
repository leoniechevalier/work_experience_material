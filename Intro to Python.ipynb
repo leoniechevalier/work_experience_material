{
 "cells": [
  {
   "cell_type": "markdown",
   "metadata": {},
   "source": [
    "# Python Basics"
   ]
  },
  {
   "cell_type": "markdown",
   "metadata": {},
   "source": [
    "In this notebook we will be covering some of the basics to get you started programming in Python.\n",
    "This notebook works complimentary with the webinar -- link here"
   ]
  },
  {
   "cell_type": "markdown",
   "metadata": {},
   "source": [
    "# Variables and data Structures"
   ]
  },
  {
   "cell_type": "code",
   "execution_count": 1,
   "metadata": {},
   "outputs": [],
   "source": [
    "#defining a variable x\n",
    "\n",
    "x = 2\n",
    "\n",
    "#there is no difference between defining any type \n",
    "\n",
    "float_variable = 2.5\n",
    "string_variable = \"this is a string\"\n"
   ]
  },
  {
   "cell_type": "code",
   "execution_count": 2,
   "metadata": {},
   "outputs": [
    {
     "name": "stdout",
     "output_type": "stream",
     "text": [
      "3.3\n"
     ]
    }
   ],
   "source": [
    "# you can add floats and integers\n",
    "\n",
    "x = 1\n",
    "y = 2.3\n",
    "\n",
    "z = x+y\n",
    "\n",
    "print (z)\n"
   ]
  },
  {
   "cell_type": "code",
   "execution_count": 5,
   "metadata": {},
   "outputs": [
    {
     "name": "stdout",
     "output_type": "stream",
     "text": [
      "['orange', 'pineapple', 'kiwi']\n"
     ]
    }
   ],
   "source": [
    "#list\n",
    "#lists are ordered and changeble\n",
    "\n",
    "listoffruit = [\"apple\", \"orange\", \"pineapple\"]\n",
    "\n",
    "\n",
    "listoffruit.append(\"kiwi\") # the append promt will add the assigned value to the end of the list (position [-1])\n",
    "listoffruit.insert(1,'pear') # you can specify the position you want to insert a value using insert instead of append\n",
    "\n",
    "print (listoffruit[2:])\n"
   ]
  },
  {
   "cell_type": "code",
   "execution_count": 7,
   "metadata": {},
   "outputs": [
    {
     "name": "stdout",
     "output_type": "stream",
     "text": [
      "The Way of Kings\n"
     ]
    }
   ],
   "source": [
    "#dictionary\n",
    "#dictionaries are unordered and changeble\n",
    "\n",
    "book_dict = {\n",
    "  \"title\": [\"Great Expectations\", \"The Way of Kings\"],\n",
    "  \"author\": [\"Charles Dickens\", \"Brandon Sanderson\"],\n",
    "  \"year\": [1861,2010]\n",
    "}\n",
    "\n",
    "#querying a dictionary though keys will return a list which you can manipulate and query as shown above\n",
    "print (book_dict[\"title\"][1])\n"
   ]
  },
  {
   "cell_type": "code",
   "execution_count": 8,
   "metadata": {},
   "outputs": [
    {
     "name": "stdout",
     "output_type": "stream",
     "text": [
      "table\n"
     ]
    }
   ],
   "source": [
    "#tuples\n",
    "#tuples are ordered and unchangeble\n",
    "\n",
    "furniture_tuple = ('chair','sofa','table')\n",
    "\n",
    "#you can query them the same way as to query a list\n",
    "print (furniture_tuple[2])\n",
    "\n"
   ]
  },
  {
   "cell_type": "code",
   "execution_count": 9,
   "metadata": {},
   "outputs": [
    {
     "ename": "TypeError",
     "evalue": "'tuple' object does not support item assignment",
     "output_type": "error",
     "traceback": [
      "\u001b[0;31m---------------------------------------------------------------------------\u001b[0m",
      "\u001b[0;31mTypeError\u001b[0m                                 Traceback (most recent call last)",
      "\u001b[0;32m<ipython-input-9-3376432e12ec>\u001b[0m in \u001b[0;36m<module>\u001b[0;34m()\u001b[0m\n\u001b[1;32m      2\u001b[0m \u001b[0;31m# This will cause an error!\u001b[0m\u001b[0;34m\u001b[0m\u001b[0;34m\u001b[0m\u001b[0m\n\u001b[1;32m      3\u001b[0m \u001b[0;34m\u001b[0m\u001b[0m\n\u001b[0;32m----> 4\u001b[0;31m \u001b[0mfurniture_tuple\u001b[0m\u001b[0;34m[\u001b[0m\u001b[0;36m1\u001b[0m\u001b[0;34m]\u001b[0m \u001b[0;34m=\u001b[0m \u001b[0;34m'armchair'\u001b[0m\u001b[0;34m\u001b[0m\u001b[0m\n\u001b[0m",
      "\u001b[0;31mTypeError\u001b[0m: 'tuple' object does not support item assignment"
     ]
    }
   ],
   "source": [
    "# In this cell we will try to change part of an exsisting tuple\n",
    "# This will cause an error!\n",
    "\n",
    "furniture_tuple[1] = 'armchair'\n"
   ]
  },
  {
   "cell_type": "code",
   "execution_count": 10,
   "metadata": {},
   "outputs": [],
   "source": [
    "# functions\n",
    "\n",
    "def addition_function (variable1,variable2=5):\n",
    "    result = variable1 + variable2\n",
    "    \n",
    "    return result\n",
    "    \n",
    "    "
   ]
  },
  {
   "cell_type": "code",
   "execution_count": 12,
   "metadata": {},
   "outputs": [
    {
     "data": {
      "text/plain": [
       "4.235"
      ]
     },
     "execution_count": 12,
     "metadata": {},
     "output_type": "execute_result"
    }
   ],
   "source": [
    "addition_function(3,1.235)\n"
   ]
  },
  {
   "cell_type": "code",
   "execution_count": 13,
   "metadata": {},
   "outputs": [],
   "source": [
    "def make_into_string (variable_or_function):\n",
    "    ''' this is one way to add instructions or comments to your function that can be displayed when querying it.\n",
    "    In here we can describe what inputs are requred and what the objective of this function is. In this case the\n",
    "    function will take a variable and make it into a string.\n",
    "    '''\n",
    "    \n",
    "    string = str(variable_or_function) + ' is the answer'\n",
    "    \n",
    "    return string\n"
   ]
  },
  {
   "cell_type": "code",
   "execution_count": 14,
   "metadata": {},
   "outputs": [
    {
     "data": {
      "text/plain": [
       "'9 is the answer'"
      ]
     },
     "execution_count": 14,
     "metadata": {},
     "output_type": "execute_result"
    }
   ],
   "source": [
    "make_into_string(addition_funtion(4))\n"
   ]
  },
  {
   "cell_type": "code",
   "execution_count": 15,
   "metadata": {},
   "outputs": [
    {
     "name": "stdout",
     "output_type": "stream",
     "text": [
      "Help on function make_into_string in module __main__:\n",
      "\n",
      "make_into_string(variable_or_function)\n",
      "    this is one way to add instructions or comments to your function that can be displayed when querying it.\n",
      "    In here we can describe what inputs are requred and what the objective of this function is. In this case the\n",
      "    function will take a variable and make it into a string.\n",
      "\n"
     ]
    }
   ],
   "source": [
    "help(make_into_string)\n"
   ]
  },
  {
   "cell_type": "markdown",
   "metadata": {},
   "source": [
    "# Python exercises "
   ]
  },
  {
   "cell_type": "markdown",
   "metadata": {},
   "source": [
    "Working with a dictionary:\n",
    "\n",
    "1. create a dictionary with your top five favorite songs, the artists name and the year of release\n",
    "2. create a new column named 'rating' and assign your favorite songs ratings out of five \n",
    "3. create a new entry for 1987 hit song “Locomotion” by Kylie Minogue and assign it the rating of 2.5\n",
    "4. Overwrite the rating for \"Locomotion\" with what you actually think of it "
   ]
  },
  {
   "cell_type": "code",
   "execution_count": null,
   "metadata": {},
   "outputs": [],
   "source": []
  },
  {
   "cell_type": "markdown",
   "metadata": {},
   "source": [
    "below you are given a long list of strings use \":\" as well as intergers and experiment on how to return\n",
    "    - the first 3 entries\n",
    "    - the last three enties\n",
    "    - every second entry"
   ]
  },
  {
   "cell_type": "code",
   "execution_count": null,
   "metadata": {},
   "outputs": [],
   "source": [
    "dog_breeds =['Labrador','Poodle','Pug','Mastive','French Bulldog','Corgie','Dachshund','Husky']"
   ]
  },
  {
   "cell_type": "code",
   "execution_count": null,
   "metadata": {},
   "outputs": [],
   "source": []
  }
 ],
 "metadata": {
  "kernelspec": {
   "display_name": "Python 3",
   "language": "python",
   "name": "python3"
  },
  "language_info": {
   "codemirror_mode": {
    "name": "ipython",
    "version": 3
   },
   "file_extension": ".py",
   "mimetype": "text/x-python",
   "name": "python",
   "nbconvert_exporter": "python",
   "pygments_lexer": "ipython3",
   "version": "3.5.1"
  }
 },
 "nbformat": 4,
 "nbformat_minor": 2
}
